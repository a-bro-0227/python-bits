{
 "cells": [
  {
   "cell_type": "markdown",
   "metadata": {},
   "source": [
    " **You're working with an intern that keeps coming to you with JavaScript code that won't run because the braces, brackets, and parentheses are off. To save you both some time, you decide to write a braces/brackets/parentheses validator.**\n",
    "\n",
    "Let's say:\n",
    "\n",
    "\n",
    "\n",
    "- `'(', '{', '['` are called \"_openers_.\"\n",
    "- `'}', ']'` are called \"_closers_.\"\n",
    "\n",
    "\n",
    "Write an efficient function that tells us whether or not an input string's openers and closers are properly nested.\n",
    "\n",
    "Examples:\n",
    "\n",
    "- `\"{ [] ( ) }\"` should return **`1`**\n",
    "- `\"{ [(] ) }\"` should return **`0`**\n",
    "- `\"{ [ }\"` should return **`0`**\n"
   ]
  }
 ],
 "metadata": {
  "kernelspec": {
   "display_name": "Python 3",
   "language": "python",
   "name": "python3"
  },
  "language_info": {
   "codemirror_mode": {
    "name": "ipython",
    "version": 3
   },
   "file_extension": ".py",
   "mimetype": "text/x-python",
   "name": "python",
   "nbconvert_exporter": "python",
   "pygments_lexer": "ipython3",
   "version": "3.8.2"
  }
 },
 "nbformat": 4,
 "nbformat_minor": 4
}
